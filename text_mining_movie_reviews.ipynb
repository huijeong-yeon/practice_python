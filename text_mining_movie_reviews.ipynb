{
 "cells": [
  {
   "cell_type": "markdown",
   "id": "4bccc1dd-da35-424f-9f69-3a651b6e3f6e",
   "metadata": {},
   "source": [
    "### Text Mining Practice"
   ]
  },
  {
   "cell_type": "code",
   "execution_count": 1,
   "id": "529663e6-ff91-408e-b6a8-4acfeb8ca29d",
   "metadata": {},
   "outputs": [
    {
     "name": "stderr",
     "output_type": "stream",
     "text": [
      "[nltk_data] Downloading package movie_reviews to\n",
      "[nltk_data]     C:\\Users\\yhj59\\AppData\\Roaming\\nltk_data...\n",
      "[nltk_data]   Unzipping corpora\\movie_reviews.zip.\n"
     ]
    },
    {
     "name": "stdout",
     "output_type": "stream",
     "text": [
      "['neg/cv000_29416.txt', 'neg/cv001_19502.txt', 'neg/cv002_17424.txt', 'neg/cv003_12683.txt', 'neg/cv004_12641.txt']\n"
     ]
    }
   ],
   "source": [
    "import nltk\n",
    "nltk.download('movie_reviews')\n",
    "from nltk.corpus import movie_reviews\n",
    "print(movie_reviews.fileids()[:5])"
   ]
  },
  {
   "cell_type": "code",
   "execution_count": 3,
   "id": "c57a2163-4cac-45fb-93b8-a2f5eabfd2c5",
   "metadata": {},
   "outputs": [
    {
     "name": "stdout",
     "output_type": "stream",
     "text": [
      "plot : two teen couples go to a church party , drink and then drive . \n",
      "they get into an accident . \n",
      "one of the guys dies , but his girlfriend continues to see him in her life , and has nightmares . \n",
      "what's the deal ? \n",
      "watch the movie and \" sorta \" find out . . . \n",
      "critique : a mind-fuck movie for the teen generation that touches on a very cool idea , but presents it in a very bad package . \n",
      "which is what makes this review an even harder one to write , since i generally applaud films which attempt ...\n"
     ]
    }
   ],
   "source": [
    "fileids = movie_reviews.fileids()\n",
    "first_id = fileids[0]\n",
    "\n",
    "raw_text = movie_reviews.raw(first_id)\n",
    "print(raw_text[:500], \"...\")\n"
   ]
  },
  {
   "cell_type": "markdown",
   "id": "6b357204-de99-4759-8d25-3b07fdec0122",
   "metadata": {},
   "source": [
    "## Tokenization"
   ]
  },
  {
   "cell_type": "code",
   "execution_count": 9,
   "id": "202456fa-f9cc-44a4-be8e-523e3578be02",
   "metadata": {},
   "outputs": [
    {
     "name": "stdout",
     "output_type": "stream",
     "text": [
      "['plot', ':', 'two', 'teen', 'couples', 'go', 'to', 'a', 'church', 'party', ',', 'drink', 'and', 'then', 'drive', '.', 'they', 'get', 'into', 'an']\n",
      "['plot', 'two', 'teen', 'couples', 'go', 'to', 'a', 'church', 'party', 'drink', 'and', 'then', 'drive', 'they', 'get', 'into', 'an', 'accident', 'one', 'of']\n"
     ]
    }
   ],
   "source": [
    "words = movie_reviews.words(first_id)\n",
    "print(words[:20])\n",
    "\n",
    "tokens = [w.lower() for w in words if w.isalpha()]\n",
    "print(tokens[:20])\n"
   ]
  },
  {
   "cell_type": "markdown",
   "id": "6488aa66-c39d-4f4c-8db5-5db401d63c3f",
   "metadata": {},
   "source": [
    "### Bag-of-Words + Naïve Bayes"
   ]
  },
  {
   "cell_type": "code",
   "execution_count": 11,
   "id": "39f3630e-692c-448a-b30d-23f4dbf2156a",
   "metadata": {},
   "outputs": [],
   "source": [
    "all_words = nltk.FreqDist(w.lower() for w in movie_reviews.words())\n",
    "\n",
    "word_features = list(all_words)[:2000]\n"
   ]
  },
  {
   "cell_type": "code",
   "execution_count": 16,
   "id": "ac34ca1b-8dab-4e8d-bcf4-3a27684d02ac",
   "metadata": {},
   "outputs": [],
   "source": [
    "def document_features(document_words):\n",
    "    document_words = set(document_words)\n",
    "    features = {}\n",
    "    for wf in word_features:\n",
    "        features[f\"contains({wf})\"] = (wf in document_words)\n",
    "    return features"
   ]
  },
  {
   "cell_type": "code",
   "execution_count": 19,
   "id": "f2a255ac-f758-418a-881b-50d432b69d48",
   "metadata": {},
   "outputs": [],
   "source": [
    "documents = [\n",
    "    (movie_reviews.words(fid), category)\n",
    "    for category in movie_reviews.categories()\n",
    "    for fid in movie_reviews.fileids(category)\n",
    "]"
   ]
  },
  {
   "cell_type": "code",
   "execution_count": 20,
   "id": "4eff1ae7-a45c-4479-8840-035b3db5b4fc",
   "metadata": {},
   "outputs": [
    {
     "name": "stdout",
     "output_type": "stream",
     "text": [
      "Test accuracy: 79.00%\n",
      "Most Informative Features\n",
      "        contains(seagal) = True              neg : pos    =     12.2 : 1.0\n",
      "   contains(outstanding) = True              pos : neg    =     11.0 : 1.0\n",
      "         contains(mulan) = True              pos : neg    =      9.1 : 1.0\n",
      "   contains(wonderfully) = True              pos : neg    =      6.8 : 1.0\n",
      "         contains(damon) = True              pos : neg    =      6.0 : 1.0\n",
      "         contains(flynt) = True              pos : neg    =      5.7 : 1.0\n",
      "         contains(waste) = True              neg : pos    =      5.4 : 1.0\n",
      "          contains(lame) = True              neg : pos    =      5.3 : 1.0\n",
      "        contains(wasted) = True              neg : pos    =      5.2 : 1.0\n",
      "         contains(awful) = True              neg : pos    =      5.1 : 1.0\n"
     ]
    }
   ],
   "source": [
    "import random\n",
    "random.shuffle(documents)\n",
    "featuresets = [(document_features(d), c) for (d,c) in documents]\n",
    "\n",
    "train_set, test_set = featuresets[100:], featuresets[:100]\n",
    "\n",
    "from nltk import NaiveBayesClassifier, classify\n",
    "classifier = NaiveBayesClassifier.train(train_set)\n",
    "\n",
    "accuracy = classify.accuracy(classifier, test_set)\n",
    "print(f\"Test accuracy: {accuracy:.2%}\")\n",
    "\n",
    "classifier.show_most_informative_features(10)\n"
   ]
  },
  {
   "cell_type": "markdown",
   "id": "17e34307-8b7e-4916-ba2d-d8a51b8fe164",
   "metadata": {},
   "source": [
    "### TF–IDF + Pipeline"
   ]
  },
  {
   "cell_type": "code",
   "execution_count": 28,
   "id": "66a1ed58-980b-4631-a5ad-db02b705a6b8",
   "metadata": {},
   "outputs": [
    {
     "name": "stdout",
     "output_type": "stream",
     "text": [
      "Accuracy: 81.25%\n",
      "\n",
      "Confision Matrix\n",
      "[[169  30]\n",
      " [ 45 156]]\n",
      "\n",
      "Classification Report\n",
      "              precision    recall  f1-score   support\n",
      "\n",
      "         neg       0.79      0.85      0.82       199\n",
      "         pos       0.84      0.78      0.81       201\n",
      "\n",
      "    accuracy                           0.81       400\n",
      "   macro avg       0.81      0.81      0.81       400\n",
      "weighted avg       0.81      0.81      0.81       400\n",
      "\n"
     ]
    }
   ],
   "source": [
    "from sklearn.pipeline import Pipeline\n",
    "from sklearn.feature_extraction.text import TfidfVectorizer\n",
    "from sklearn.naive_bayes import MultinomialNB\n",
    "from sklearn.model_selection import train_test_split\n",
    "from sklearn import metrics\n",
    "\n",
    "texts = [\" \".join(movie_reviews.words(fid)) for fid in movie_reviews.fileids()]\n",
    "labels = [movie_reviews.categories(fid)[0] for fid in movie_reviews.fileids()]\n",
    "\n",
    "x_train, x_test, y_train, y_test = train_test_split(\n",
    "    texts, labels, test_size=0.2, random_state=42)\n",
    "\n",
    "pipeline = Pipeline([\n",
    "    (\"tfidf\", TfidfVectorizer(\n",
    "        lowercase=True,\n",
    "        token_pattern=r\"\\b[a-zA-Z]+\\b\",\n",
    "        stop_words=\"english\",\n",
    "        max_df=0.8,\n",
    "        min_df=5)),\n",
    "    (\"clf\", MultinomialNB())\n",
    "])\n",
    "\n",
    "pipeline.fit(x_train, y_train)\n",
    "y_pred = pipeline.predict(x_test)\n",
    "\n",
    "print(\"Accuracy:\", f\"{metrics.accuracy_score(y_test, y_pred):.2%}\")\n",
    "print(\"\\nConfision Matrix\")\n",
    "print(metrics.confusion_matrix(y_test, y_pred, labels=[\"neg\", \"pos\"]))\n",
    "print(\"\\nClassification Report\")\n",
    "print(metrics.classification_report(y_test, y_pred, digits=2))\n"
   ]
  }
 ],
 "metadata": {
  "kernelspec": {
   "display_name": "Python 3 (ipykernel)",
   "language": "python",
   "name": "python3"
  },
  "language_info": {
   "codemirror_mode": {
    "name": "ipython",
    "version": 3
   },
   "file_extension": ".py",
   "mimetype": "text/x-python",
   "name": "python",
   "nbconvert_exporter": "python",
   "pygments_lexer": "ipython3",
   "version": "3.13.5"
  }
 },
 "nbformat": 4,
 "nbformat_minor": 5
}
