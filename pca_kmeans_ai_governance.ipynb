{
 "cells": [
  {
   "cell_type": "markdown",
   "id": "781d608d-84fc-4560-bf23-d97327ca8cc1",
   "metadata": {},
   "source": [
    "# Typology of AI Governance Models via PCA and Clustering"
   ]
  },
  {
   "cell_type": "code",
   "execution_count": 19,
   "id": "9c5b5753-fc52-4bb7-83e4-bc888bff7882",
   "metadata": {},
   "outputs": [],
   "source": [
    "import os\n",
    "import pandas as pd\n",
    "import numpy as np\n",
    "from sklearn.preprocessing import StandardScaler\n",
    "from sklearn.decomposition import PCA\n",
    "from sklearn.cluster import KMeans\n",
    "import matplotlib.pyplot as plt\n",
    "import seaborn as sns"
   ]
  },
  {
   "cell_type": "markdown",
   "id": "62ad3c15-0ca5-4616-b3c6-e1162f06af01",
   "metadata": {},
   "source": [
    "## 1. Data construction"
   ]
  },
  {
   "cell_type": "code",
   "execution_count": 11,
   "id": "74579503-234f-420d-9c6b-23794fb3ceef",
   "metadata": {},
   "outputs": [],
   "source": [
    "data = {\n",
    "    'Country': ['EU', 'USA', 'China'],\n",
    "    'Centralization': [3, 1, 5],\n",
    "    'Transparency': [5, 2, 1],\n",
    "    'Accountability': [5, 2, 2],\n",
    "    'Innovation': [3, 5, 4],\n",
    "    'RiskMgmt': [5, 3, 3],\n",
    "    'Stakeholder': [5, 2, 1],\n",
    "    'TechCapacity': [3, 4, 5]\n",
    "}\n",
    "\n",
    "df = pd.DataFrame(data)"
   ]
  },
  {
   "cell_type": "markdown",
   "id": "1fd4a615-33b6-47bb-87d7-fd79bfa8d449",
   "metadata": {},
   "source": [
    "## 2. Preprocessing: Standardization"
   ]
  },
  {
   "cell_type": "code",
   "execution_count": 4,
   "id": "61026b7a-dd81-4169-877e-0b9faafaa181",
   "metadata": {},
   "outputs": [],
   "source": [
    "X = df.drop(columns=['Country'])\n",
    "scaler = StandardScaler()\n",
    "X_scaled = scaler.fit_transform(X)"
   ]
  },
  {
   "cell_type": "markdown",
   "id": "89ad4a11-0d57-4184-8701-5d14d6cb63ff",
   "metadata": {},
   "source": [
    "## 3. Perform PCA (2D)"
   ]
  },
  {
   "cell_type": "code",
   "execution_count": 5,
   "id": "07f7d036-64bc-43d0-9a72-781270295b75",
   "metadata": {},
   "outputs": [],
   "source": [
    "pca = PCA(n_components=2)\n",
    "X_pca = pca.fit_transform(X_scaled)"
   ]
  },
  {
   "cell_type": "markdown",
   "id": "a16ed1b2-2e8c-48e4-b4eb-798458ab8a15",
   "metadata": {},
   "source": [
    "## 4. Print eigenvalues & variance explained"
   ]
  },
  {
   "cell_type": "code",
   "execution_count": 21,
   "id": "6d5664e8-5b7b-4dae-9e23-71a8edbd883c",
   "metadata": {},
   "outputs": [
    {
     "name": "stdout",
     "output_type": "stream",
     "text": [
      "Eigenvalues: [8.16217603 2.33782397]\n",
      "Variance explained ratio: [0.7773501 0.2226499]\n",
      "Cumulative variance explained: [0.7773501 1.       ]\n"
     ]
    }
   ],
   "source": [
    "print(\"Eigenvalues:\", pca.explained_variance_)\n",
    "print(\"Variance explained ratio:\", pca.explained_variance_ratio_)\n",
    "print(\"Cumulative variance explained:\", pca.explained_variance_ratio_.cumsum())"
   ]
  },
  {
   "cell_type": "markdown",
   "id": "fbca3653-3c9f-449f-b770-eba3024cd9fd",
   "metadata": {},
   "source": [
    "## 5. Calculate raw & scaled loadings"
   ]
  },
  {
   "cell_type": "code",
   "execution_count": 23,
   "id": "e111a639-ea50-4576-a44e-c5f1aaaf9a39",
   "metadata": {},
   "outputs": [
    {
     "name": "stdout",
     "output_type": "stream",
     "text": [
      "\n",
      "Raw loadings:\n",
      "                   PC1    PC2\n",
      "Centralization -0.052  0.795\n",
      "Transparency    0.426 -0.097\n",
      "Accountability  0.426  0.097\n",
      "Innovation     -0.343 -0.481\n",
      "RiskMgmt        0.426  0.097\n",
      "Stakeholder     0.426 -0.097\n",
      "TechCapacity   -0.394  0.314\n",
      "\n",
      "Scaled loadings:\n",
      "                   PC1    PC2\n",
      "Centralization -0.148  1.216\n",
      "Transparency    1.216 -0.148\n",
      "Accountability  1.216  0.148\n",
      "Innovation     -0.979 -0.736\n",
      "RiskMgmt        1.216  0.148\n",
      "Stakeholder     1.216 -0.148\n",
      "TechCapacity   -1.127  0.480\n"
     ]
    }
   ],
   "source": [
    "loadings = pd.DataFrame(\n",
    "    pca.components_.T,\n",
    "    index=X.columns,\n",
    "    columns=['PC1', 'PC2']\n",
    ")\n",
    "eigs = np.sqrt(pca.explained_variance_)\n",
    "loadings_scaled = loadings.multiply(eigs, axis=1)\n",
    "\n",
    "print(\"\\nRaw loadings:\\n\", loadings.round(3))\n",
    "print(\"\\nScaled loadings:\\n\", loadings_scaled.round(3))"
   ]
  },
  {
   "cell_type": "markdown",
   "id": "5e0e648f-4a2f-4445-81c7-83c1df8fafcd",
   "metadata": {},
   "source": [
    "## 6. KMeans clustering on PCA scores"
   ]
  },
  {
   "cell_type": "code",
   "execution_count": 24,
   "id": "13e8b54c-f1ad-4318-9783-40b6b25cb006",
   "metadata": {},
   "outputs": [
    {
     "name": "stderr",
     "output_type": "stream",
     "text": [
      "C:\\Users\\yhj59\\miniconda3\\envs\\sophie\\Lib\\site-packages\\sklearn\\cluster\\_kmeans.py:1419: UserWarning: KMeans is known to have a memory leak on Windows with MKL, when there are less chunks than available threads. You can avoid it by setting the environment variable OMP_NUM_THREADS=1.\n",
      "  warnings.warn(\n"
     ]
    }
   ],
   "source": [
    "os.environ[\"OMP_NUM_THREADS\"] = \"1\"\n",
    "kmeans = KMeans(n_clusters=3, random_state=42, n_init='auto')\n",
    "clusters = kmeans.fit_predict(X_pca)"
   ]
  },
  {
   "cell_type": "markdown",
   "id": "5344ddd2-24fd-42ae-87e1-0a1ada00caa0",
   "metadata": {},
   "source": [
    "## 5. Consolidate results"
   ]
  },
  {
   "cell_type": "code",
   "execution_count": 13,
   "id": "3e082c62-2024-4706-9142-cc1af5490e9f",
   "metadata": {},
   "outputs": [],
   "source": [
    "df_pca = pd.DataFrame(X_pca, columns=['PC1', 'PC2'])\n",
    "df_pca['Cluster'] = clusters\n",
    "df_pca['Country'] = df['Country']"
   ]
  },
  {
   "cell_type": "markdown",
   "id": "bfde365d-e7e5-4de1-908e-4f5874d2068c",
   "metadata": {},
   "source": [
    "## 7. Build final DataFrame for plotting"
   ]
  },
  {
   "cell_type": "code",
   "execution_count": 25,
   "id": "46eb15da-e116-4572-89ee-4becd7a16ef5",
   "metadata": {},
   "outputs": [],
   "source": [
    "df_pca = pd.DataFrame(X_pca, columns=['PC1', 'PC2'])\n",
    "df_pca['Cluster'] = clusters\n",
    "df_pca['Country'] = df['Country']"
   ]
  },
  {
   "cell_type": "markdown",
   "id": "275f91cb-55ac-4bf9-bb21-4b69ad0a0696",
   "metadata": {},
   "source": [
    "## 8. Scatter plot with meaningful axis labels"
   ]
  },
  {
   "cell_type": "code",
   "execution_count": 26,
   "id": "e19e7f47-b433-4262-9231-eb46ba64485e",
   "metadata": {},
   "outputs": [
    {
     "data": {
      "image/png": "[encoded data removed]",
      "text/plain": [
       "<Figure size 800x600 with 1 Axes>"
      ]
     },
     "metadata": {},
     "output_type": "display_data"
    }
   ],
   "source": [
    "plt.figure(figsize=(8, 6))\n",
    "sns.scatterplot(\n",
    "    data=df_pca,\n",
    "    x='PC1',\n",
    "    y='PC2',\n",
    "    hue='Country',\n",
    "    style='Country',\n",
    "    s=200\n",
    ")\n",
    "plt.title('PCA + KMeans: Typology of Countries by Generative AI Governance')\n",
    "plt.xlabel('Governance Strength & Openness')\n",
    "plt.ylabel('Centralized Control vs. Innovation Drive')\n",
    "plt.axhline(0, color='gray', linestyle='--', linewidth=0.5)\n",
    "plt.axvline(0, color='gray', linestyle='--', linewidth=0.5)\n",
    "plt.grid(True)\n",
    "plt.tight_layout()\n",
    "plt.show()"
   ]
  }
 ],
 "metadata": {
  "kernelspec": {
   "display_name": "Python 3 (ipykernel)",
   "language": "python",
   "name": "python3"
  },
  "language_info": {
   "codemirror_mode": {
    "name": "ipython",
    "version": 3
   },
   "file_extension": ".py",
   "mimetype": "text/x-python",
   "name": "python",
   "nbconvert_exporter": "python",
   "pygments_lexer": "ipython3",
   "version": "3.13.5"
  }
 },
 "nbformat": 4,
 "nbformat_minor": 5
}
